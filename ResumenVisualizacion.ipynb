{
 "cells": [
  {
   "cell_type": "markdown",
   "metadata": {},
   "source": [
    "# Visualización del proceso del Chatbot\n",
    "\n",
    "En este fichero seremos capaces de entender de manera clara y detallada el proceso que sigue nuestro Chatbot desde que se realiza una pregunta hasta que se produce una respuesta.\n",
    "\n",
    "Es importante matizar que este Notebook es un ejemplo del funcionamiento del sistema en el cuál se utiliza como fuente de conocimiento los datos introducidos por el propio usuario.\n",
    "\n",
    "El sistema tiene la capacidad de trabajar con distintas fuentes de conocimiento, de las cuáles obtiene la información necesaria y no es necesario que esta sea introducida de forma manual. No obstante, como material docente hemos considerado mas interesante que el script de visualización funcionase así."
   ]
  },
  {
   "cell_type": "code",
   "execution_count": 1,
   "metadata": {},
   "outputs": [],
   "source": [
    "from natural_language import Analysis, compose_answer\n",
    "import json"
   ]
  },
  {
   "cell_type": "markdown",
   "metadata": {},
   "source": [
    "## Creación de la conversación\n",
    "Comenzamos por crear un objeto Ground, el cuál será el encargado de gestionar la conversación del usuario con el sistema.\n",
    "A cada una de estas conversaciones se le asigna un identificador único."
   ]
  },
  {
   "cell_type": "code",
   "execution_count": 2,
   "metadata": {},
   "outputs": [],
   "source": [
    "from ground import Ground"
   ]
  },
  {
   "cell_type": "code",
   "execution_count": 3,
   "metadata": {},
   "outputs": [
    {
     "name": "stdout",
     "output_type": "stream",
     "text": [
      "Creado Ground con id: 0\n"
     ]
    }
   ],
   "source": [
    "ground = Ground()\n",
    "print(\"Creado Ground con id: {}\".format(ground.ground_id))"
   ]
  },
  {
   "cell_type": "markdown",
   "metadata": {},
   "source": [
    "## Creación de preguntas\n",
    "A modo de testeo, vamos a probar a añadir conocimiento manualmente a esta conversación, si bien se podría haber realizado una fase de recuperación de la información a traves de cualquier tipo de base de datos.\n",
    "\n",
    "Cada vez que proporcionemos conocimiento adicional este puede contener:\n",
    "- Una pregunta.\n",
    "- Respuestas ideales.\n",
    "- Fragmentos de información relevante sobre la pregunta."
   ]
  },
  {
   "cell_type": "code",
   "execution_count": 10,
   "metadata": {},
   "outputs": [],
   "source": [
    "from test_cases import do_tests, response\n",
    "from grafeno.jupyter import visualize"
   ]
  },
  {
   "cell_type": "markdown",
   "metadata": {},
   "source": [
    "### Introducción de la pregunta\n",
    "\n",
    "Realizamos una pregunta, la cuál será analizada y de ella se obtendrá un grafo como el que se ve a continuación."
   ]
  },
  {
   "cell_type": "code",
   "execution_count": 5,
   "metadata": {},
   "outputs": [
    {
     "name": "stdout",
     "output_type": "stream",
     "text": [
      "Introduce question: John helps Mary?\n"
     ]
    },
    {
     "data": {
      "text/html": [
       "<style>\n",
       "    #d3-container-2 {\n",
       "        display: block;\n",
       "        width: 100%;\n",
       "        padding-bottom: 75%;\n",
       "        border: 1px solid gray;\n",
       "        position: relative;\n",
       "    }\n",
       "    #d3-container-2 > div {\n",
       "        position: absolute;\n",
       "        display: block;\n",
       "        top: 0; right: 0; bottom: 0; left: 0;\n",
       "    }\n",
       "    #d3-container-2 svg {\n",
       "        width: 100%;\n",
       "        height: 100%;\n",
       "    }\n",
       "    .node circle {\n",
       "        stroke: #fff;\n",
       "        stroke-width: 2px;\n",
       "    }\n",
       "    .link path {\n",
       "        stroke: #333; stroke-width: 2px;\n",
       "        fill: none;\n",
       "        marker-end: url(#markerArrow);\n",
       "    }\n",
       "    .link text, .node text {\n",
       "        stroke: #fff;\n",
       "        paint-order: stroke;\n",
       "        stroke-width: 4px;\n",
       "        fill: #333;\n",
       "        text-anchor: middle;\n",
       "        dominant-baseline: middle;\n",
       "        font-weight: boldest;\n",
       "        pointer-events: none;\n",
       "    }\n",
       "    .marker {\n",
       "        fill: #333;\n",
       "    }\n",
       "</style>\n",
       "<div id=\"d3-container-2\">\n",
       "    <div>\n",
       "        <svg>\n",
       "            <defs>\n",
       "                <marker id=\"markerArrow\" markerWidth=\"6\" markerHeight=\"8\"\n",
       "                    orient=\"auto\" refX=\"21\" refY=\"3\">\n",
       "                    <path d=\"M0,3 L6,5 1,8\" />\n",
       "                </marker>\n",
       "            </defs>\n",
       "            <g id=\"graph-layer\"></g>\n",
       "        </svg>\n",
       "    </div>\n",
       "</div>\n",
       "<script>CreateGrafenoVisualization(2,JSON.parse('{\"nodes\": [{\"concept\": \"help\", \"id\": 0, \"sempos\": \"v\", \"tense\": null, \"polarity\": \"+\"}, {\"concept\": \"john\", \"id\": 1, \"sempos\": \"n\", \"proper\": false, \"num\": \"p\"}, {\"concept\": \"mary\", \"id\": 2, \"sempos\": \"n\", \"proper\": false, \"num\": \"p\"}], \"links\": [{\"source\": 0, \"target\": 1, \"functor\": \"AGENT\", \"weight\": 1.0}, {\"source\": 0, \"target\": 2, \"functor\": \"THEME\", \"weight\": 1.0}]}'))</script>"
      ],
      "text/plain": [
       "<IPython.core.display.HTML object>"
      ]
     },
     "execution_count": 5,
     "metadata": {},
     "output_type": "execute_result"
    }
   ],
   "source": [
    "ground.teardown()\n",
    "introduceQuestion = str(input(\"Introduce question: \")) # Example: John helps Mary?\n",
    "analysis_question = Analysis(introduceQuestion)\n",
    "snippets = []\n",
    "ideals = []\n",
    "all_data = []\n",
    "visualize(analysis_question.graph)"
   ]
  },
  {
   "cell_type": "markdown",
   "metadata": {},
   "source": [
    "### Introducción del conocimiento en la conversación\n",
    "\n",
    "Durante esta etapa, podemos añadir conocimiento a nuestra conversación que nos permitirá encontrar las respuestas a la consulta introducida anteriormente.\n",
    "\n",
    "La siguiente celda se puede ejecutar varias veces si deseamos añadir varios fragmentos de información.\n",
    "\n",
    "Además, como en el apartado anterior, se realiza un analisis de cada uno de estos fragmentos de información y genera un grafo como el que podemos observar a continuación."
   ]
  },
  {
   "cell_type": "code",
   "execution_count": 11,
   "metadata": {},
   "outputs": [
    {
     "name": "stdout",
     "output_type": "stream",
     "text": [
      "Introduce snippet: John helps Mary at weekends very much.\n",
      "\n",
      "Cypher insert query: \n",
      "CREATE (n:VERB {concept: 'help', sempos: 'v', tense: 'None', polarity: '+', ground_id: '0', _temp_id: '0'});\n",
      "Cypher insert query: \n",
      "CREATE (n:NOUN {concept: 'john', sempos: 'n', proper: 'False', num: 'p', ground_id: '0', _temp_id: '1'});\n",
      "Cypher insert query: \n",
      "CREATE (n:NOUN {concept: 'mary', sempos: 'n', proper: 'False', num: 'p', ground_id: '0', _temp_id: '2'});\n",
      "Cypher insert query: \n",
      "CREATE (n:NOUN {concept: 'weekend', sempos: 'n', proper: 'False', num: 'p', ground_id: '0', _temp_id: '3'});\n",
      "Cypher insert query: \n",
      "CREATE (n:ADVERB {concept: 'much', sempos: 'r', ground_id: '0', _temp_id: '4'});\n",
      "Cypher insert query: \n",
      "CREATE (n:ADVERB {concept: 'very', sempos: 'r', ground_id: '0', _temp_id: '5'});\n",
      "Cypher query: \n",
      "MATCH (n {_temp_id: '0'}), (m {_temp_id: '1'}) CREATE (n)-[r:AGENT {weight: '1.0'}]->(m);\n",
      "Cypher query: \n",
      "MATCH (n {_temp_id: '0'}), (m {_temp_id: '2'}) CREATE (n)-[r:THEME {weight: '1.0'}]->(m);\n",
      "Cypher query: \n",
      "MATCH (n {_temp_id: '0'}), (m {_temp_id: '3'}) CREATE (n)-[r:COMP {class: 'at', pval: 'at'}]->(m);\n",
      "Cypher query: \n",
      "MATCH (n {_temp_id: '0'}), (m {_temp_id: '4'}) CREATE (n)-[r:ATTR]->(m);\n",
      "Cypher query: \n",
      "MATCH (n {_temp_id: '4'}), (m {_temp_id: '5'}) CREATE (n)-[r:ATTR]->(m);\n"
     ]
    },
    {
     "data": {
      "text/html": [
       "<style>\n",
       "    #d3-container-6 {\n",
       "        display: block;\n",
       "        width: 100%;\n",
       "        padding-bottom: 75%;\n",
       "        border: 1px solid gray;\n",
       "        position: relative;\n",
       "    }\n",
       "    #d3-container-6 > div {\n",
       "        position: absolute;\n",
       "        display: block;\n",
       "        top: 0; right: 0; bottom: 0; left: 0;\n",
       "    }\n",
       "    #d3-container-6 svg {\n",
       "        width: 100%;\n",
       "        height: 100%;\n",
       "    }\n",
       "    .node circle {\n",
       "        stroke: #fff;\n",
       "        stroke-width: 2px;\n",
       "    }\n",
       "    .link path {\n",
       "        stroke: #333; stroke-width: 2px;\n",
       "        fill: none;\n",
       "        marker-end: url(#markerArrow);\n",
       "    }\n",
       "    .link text, .node text {\n",
       "        stroke: #fff;\n",
       "        paint-order: stroke;\n",
       "        stroke-width: 4px;\n",
       "        fill: #333;\n",
       "        text-anchor: middle;\n",
       "        dominant-baseline: middle;\n",
       "        font-weight: boldest;\n",
       "        pointer-events: none;\n",
       "    }\n",
       "    .marker {\n",
       "        fill: #333;\n",
       "    }\n",
       "</style>\n",
       "<div id=\"d3-container-6\">\n",
       "    <div>\n",
       "        <svg>\n",
       "            <defs>\n",
       "                <marker id=\"markerArrow\" markerWidth=\"6\" markerHeight=\"8\"\n",
       "                    orient=\"auto\" refX=\"21\" refY=\"3\">\n",
       "                    <path d=\"M0,3 L6,5 1,8\" />\n",
       "                </marker>\n",
       "            </defs>\n",
       "            <g id=\"graph-layer\"></g>\n",
       "        </svg>\n",
       "    </div>\n",
       "</div>\n",
       "<script>CreateGrafenoVisualization(6,JSON.parse('{\"nodes\": [{\"concept\": \"help\", \"id\": 0, \"sempos\": \"v\", \"tense\": null, \"polarity\": \"+\"}, {\"concept\": \"john\", \"id\": 1, \"sempos\": \"n\", \"proper\": false, \"num\": \"p\"}, {\"concept\": \"mary\", \"id\": 2, \"sempos\": \"n\", \"proper\": false, \"num\": \"p\"}, {\"concept\": \"weekend\", \"id\": 3, \"sempos\": \"n\", \"proper\": false, \"num\": \"p\"}, {\"concept\": \"much\", \"id\": 4, \"sempos\": \"r\"}, {\"concept\": \"very\", \"id\": 5, \"sempos\": \"r\"}], \"links\": [{\"source\": 0, \"target\": 1, \"functor\": \"AGENT\", \"weight\": 1.0}, {\"source\": 0, \"target\": 2, \"functor\": \"THEME\", \"weight\": 1.0}, {\"source\": 0, \"target\": 3, \"functor\": \"COMP\", \"class\": \"at\", \"pval\": \"at\"}, {\"source\": 0, \"target\": 4, \"functor\": \"ATTR\"}, {\"source\": 4, \"target\": 5, \"functor\": \"ATTR\"}]}'))</script>"
      ],
      "text/plain": [
       "<IPython.core.display.HTML object>"
      ]
     },
     "execution_count": 11,
     "metadata": {},
     "output_type": "execute_result"
    }
   ],
   "source": [
    "snippet = str(input(\"Introduce snippet: \")) # Example: John helps Mary at weekends very much.\n",
    "print('')\n",
    "snippets.append({'text':snippet})\n",
    "a = Analysis(snippet)\n",
    "ground.add_text(a)\n",
    "visualize(a.graph)"
   ]
  },
  {
   "cell_type": "markdown",
   "metadata": {},
   "source": [
    "Introducimos manualmente, la respuesta o respuestas ideales a nuestra pregunta.\n",
    "Esta no es una de las fases de nuestro Chatbot, pero nos servirá para más adelante verificar si la respuesta obtenida por el mismo es satisfactoria o no."
   ]
  },
  {
   "cell_type": "code",
   "execution_count": 7,
   "metadata": {},
   "outputs": [
    {
     "name": "stdout",
     "output_type": "stream",
     "text": [
      "Introduce ideal answer: Yes.\n"
     ]
    }
   ],
   "source": [
    "ideal = str(input(\"Introduce ideal answer: \")) # Example: Yes\n",
    "ideals.append(ideal)"
   ]
  },
  {
   "cell_type": "markdown",
   "metadata": {},
   "source": [
    "### Resolución de la consulta y construcción de la respuesta\n",
    "\n",
    "Realizamos finalmente el matching entre el grafo de pregunta y los grafos de conocimiento introducidos en nuestra conversación actual.\n",
    "\n",
    "Cabe destacar que a la hora de construir dicha respuesta, esta se hace en función de si la pregunta es abierta o cerrada.\n",
    "\n",
    "- En caso de que la pregunta sea cerrada: comprobamos el número de respuestas encontradas y contestamos Yes/No.\n",
    "- En caso de que la pregunta sea abierta: devolvemos las respuestas encontradas como frases en lenguaje natural. Para ello utilizamos la función graft en la cual partiendo de la consulta y las respuestas encontradas las combinamos para componer las frases en lenguaje natural."
   ]
  },
  {
   "cell_type": "code",
   "execution_count": 8,
   "metadata": {
    "scrolled": true
   },
   "outputs": [
    {
     "name": "stdout",
     "output_type": "stream",
     "text": [
      "Question: John helps Mary?\n",
      "Answer: Yes\n",
      "Ideal Answer: Yes.\n"
     ]
    }
   ],
   "source": [
    "question_type = analysis_question.graph.question_type\n",
    "answers = ground.ask_question(analysis_question)\n",
    "print('Question: {}'.format(introduceQuestion))\n",
    "print('Answer: {}'.format(response(analysis_question,answers,question_type)))\n",
    "print('Ideal Answer: {}'.format(ideal))"
   ]
  },
  {
   "cell_type": "markdown",
   "metadata": {},
   "source": [
    "### Distinción del conocimiento entre conversaciones\n",
    "\n",
    "Podemos comprobar que si realizamos la misma pregunta en una conversación diferente (en este caso una nueva), no va a encontrar la respuesta al encontrarse la correspondiente base de conocimiento vacía o no contener la información necesaria para dicha pregunta."
   ]
  },
  {
   "cell_type": "code",
   "execution_count": 11,
   "metadata": {},
   "outputs": [
    {
     "name": "stdout",
     "output_type": "stream",
     "text": [
      "Answer: No\n"
     ]
    }
   ],
   "source": [
    "ground2 = Ground()\n",
    "answers2 = ground2.ask_question(a)\n",
    "print('Answer: {}'.format(response(analysis_question,answers2,question_type)))"
   ]
  },
  {
   "cell_type": "markdown",
   "metadata": {},
   "source": [
    "Por último, podemos almacenar todo este proceso en un fichero para posteriromente poder realizar de nuevo todo este análisis."
   ]
  },
  {
   "cell_type": "code",
   "execution_count": 13,
   "metadata": {
    "collapsed": true
   },
   "outputs": [],
   "source": [
    "question = {'body':introduceQuestion,'ideal_answer':ideals, 'snippets':snippets};\n",
    "all_data.append(question)\n",
    "data = {'questions':all_data}\n",
    "with open('Datasets/resume_test_cases-SampleData.json', 'w') as js:\n",
    "    json.dump(data, js)"
   ]
  },
  {
   "cell_type": "markdown",
   "metadata": {},
   "source": [
    "La celda siguiente nos servirá para cargar dicho fichero y realizar todo el análisis con los datos introducidos previamente."
   ]
  },
  {
   "cell_type": "code",
   "execution_count": 14,
   "metadata": {},
   "outputs": [
    {
     "name": "stdout",
     "output_type": "stream",
     "text": [
      "------------------------------------\n",
      "Question: John helps Mary?\n",
      "Question type: closed\n",
      "Answer: Yes\n"
     ]
    }
   ],
   "source": [
    "do_tests('Datasets/resume_test_cases-SampleData.json','Datasets/resume_test_cases-Answer.json')"
   ]
  }
 ],
 "metadata": {
  "kernelspec": {
   "display_name": "Python 3",
   "language": "python",
   "name": "python3"
  },
  "language_info": {
   "codemirror_mode": {
    "name": "ipython",
    "version": 3
   },
   "file_extension": ".py",
   "mimetype": "text/x-python",
   "name": "python",
   "nbconvert_exporter": "python",
   "pygments_lexer": "ipython3",
   "version": "3.6.4"
  }
 },
 "nbformat": 4,
 "nbformat_minor": 2
}
